{
 "cells": [
  {
   "cell_type": "code",
   "execution_count": 34,
   "metadata": {},
   "outputs": [],
   "source": [
    "# importing all the libraries \n",
    "import smtplib                                   # SMTP library used as this is an application with respect to E-mails \n",
    "from email.mime.text import MIMEText             \n",
    "from email.mime.multipart import MIMEMultipart\n",
    "from email.mime.base import MIMEBase\n",
    "from email import encoders"
   ]
  },
  {
   "cell_type": "code",
   "execution_count": 35,
   "metadata": {},
   "outputs": [],
   "source": [
    "#Fill in the details :\n",
    "\n",
    "email_sender=''    #enter the Sender's email id\n",
    "email_recvr=''     #enter the recipient email id\n",
    "password=''                   # enter your password here\n",
    "subject='Python mails! Boom'                         # Enter the subject for the Email"
   ]
  },
  {
   "cell_type": "code",
   "execution_count": 36,
   "metadata": {},
   "outputs": [],
   "source": [
    "# Preparing a MIME object \n",
    "\n",
    "msg=MIMEMultipart()              \n",
    "msg['From']=email_sender\n",
    "msg['To']=email_recvr\n",
    "msg['Subject']=subject\n",
    "\n",
    "body=\"Hi there , this is a mail from python ... with an image attachment\"\n",
    "msg.attach(MIMEText(body,'plain'))\n"
   ]
  },
  {
   "cell_type": "code",
   "execution_count": 37,
   "metadata": {},
   "outputs": [],
   "source": [
    "# File you want to attach \n",
    "\n",
    "filename='unnamed.png'          #Enter the file name along with path if not in same folder....\n",
    "attachment=open(filename,'rb')"
   ]
  },
  {
   "cell_type": "code",
   "execution_count": 38,
   "metadata": {},
   "outputs": [],
   "source": [
    "#Attaching the file to the email ....\n",
    "\n",
    "part=MIMEBase('application','octet-stream')\n",
    "part.set_payload(attachment.read())\n",
    "encoders.encode_base64(part)\n",
    "part.add_header('Content_Disposition',\"attachment; filename= \"+filename)\n",
    "msg.attach(part)\n",
    "text=msg.as_string()"
   ]
  },
  {
   "cell_type": "code",
   "execution_count": 39,
   "metadata": {},
   "outputs": [
    {
     "data": {
      "text/plain": [
       "(221, b'2.0.0 closing connection g8-v6sm27166570pfh.57 - gsmtp')"
      ]
     },
     "execution_count": 39,
     "metadata": {},
     "output_type": "execute_result"
    }
   ],
   "source": [
    "#Connecting to the server ... \n",
    "\n",
    "server = smtplib.SMTP('smtp.gmail.com',587)\n",
    "server.starttls()\n",
    "server.login(email_sender,password)\n",
    "server.sendmail(email_sender,email_recvr,text)\n",
    "server.quit()"
   ]
  },
  {
   "cell_type": "code",
   "execution_count": null,
   "metadata": {},
   "outputs": [],
   "source": []
  }
 ],
 "metadata": {
  "kernelspec": {
   "display_name": "Python 3",
   "language": "python",
   "name": "python3"
  },
  "language_info": {
   "codemirror_mode": {
    "name": "ipython",
    "version": 3
   },
   "file_extension": ".py",
   "mimetype": "text/x-python",
   "name": "python",
   "nbconvert_exporter": "python",
   "pygments_lexer": "ipython3",
   "version": "3.6.5"
  }
 },
 "nbformat": 4,
 "nbformat_minor": 2
}
